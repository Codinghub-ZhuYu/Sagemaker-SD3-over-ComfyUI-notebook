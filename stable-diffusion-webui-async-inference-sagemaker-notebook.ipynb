{
 "cells": [
  {
   "cell_type": "markdown",
   "id": "8f343192-4cdb-468d-8048-500ac638228a",
   "metadata": {},
   "source": [
    "# Generative Fill example on Amazon SageMaker using DLC container.\n",
    "\n",
    "In this notebook, we explore how to build generative fill application and host Stable Diffusion 3.0 on SageMaker endpoint using BYOC (Bring-your-own-container).\n",
    "\n",
    "In this notebook, under the hood we use ComflyUI and extensions to generate image. "
   ]
  },
  {
   "cell_type": "markdown",
   "id": "3e385cdf-8a17-4d3b-9213-d4f857907f70",
   "metadata": {
    "tags": []
   },
   "source": [
    "## Build Docker image and push to ECR."
   ]
  },
  {
   "cell_type": "markdown",
   "id": "c3541ed7-e45e-4434-97f8-aff5b7ad9b45",
   "metadata": {},
   "source": [
    "Initialize the variables for SageMaker default bucket, role, and AWS account ID, and current AWS region."
   ]
  },
  {
   "cell_type": "code",
   "execution_count": 11,
   "id": "b2a0119c-e56a-47b7-ace1-1e76ac825c43",
   "metadata": {},
   "outputs": [],
   "source": [
    "import sagemaker\n",
    "import boto3 \n",
    "\n",
    "sagemaker_session = sagemaker.Session()\n",
    "bucket = sagemaker_session.default_bucket()\n",
    "role=\"AmazonSageMaker-ExecutionRole-20220920T203057\"\n",
    "\n",
    "account_id = boto3.client(\"sts\").get_caller_identity().get(\"Account\")\n",
    "region_name = boto3.session.Session().region_name\n",
    "inference_image=\"sd3-compyui-notebook-7-17\""
   ]
  },
  {
   "cell_type": "code",
   "execution_count": null,
   "id": "5b7dddce-f8a4-46ad-94e0-0fe54124fb92",
   "metadata": {},
   "outputs": [],
   "source": [
    "%%sh -s \"$region_name\" \"$role\" \"$bucket\" \"$account_id\" \"$inference_image\"\n",
    "region=$1\n",
    "account=$4\n",
    "inference_image=$5\n",
    "echo $region   $account\n",
    "aws ecr get-login-password --region $region | docker login --username AWS --password-stdin $account.dkr.ecr.$region.amazonaws.com.cn\n",
    "\n",
    "inference_fullname=$account.dkr.ecr.$region.amazonaws.com.cn/$inference_image:latest\n",
    "echo $inference_fullname\n",
    "\n",
    "# If the repository doesn't exist in ECR, create it.\n",
    "aws ecr describe-repositories --repository-names \"${inference_image}\" --region $region || aws ecr create-repository --repository-name \"$inference_image\" --region $region\n",
    "\n",
    "if [ $? -ne 0 ]\n",
    "then\n",
    "    aws ecr create-repository --repository-name \"${inference_image}\" --region ${region}\n",
    "    echo \"I am here created new ECR Repo $inference_image\"\n",
    "fi\n",
    "\n",
    "AWSchinaAccount=\"727897471807\"\n",
    "\n",
    "# Get the login command from ECR and execute it directly\n",
    "docker login -u AWS -p $(aws ecr get-login-password --region $region) $AWSchinaAccount.dkr.ecr.$region.amazonaws.com.cn\n",
    "\n",
    "aws ecr set-repository-policy \\\n",
    "    --repository-name \"${inference_image}\" \\\n",
    "    --policy-text \"file://ecr-policy.json\" \\\n",
    "    --region ${region}\n",
    "\n",
    "#docker build -t ${inference_image} -f Dockerfile.inference . --build-arg REGION=$region\n",
    "docker build --no-cache -t ${inference_image} -f Dockerfile.inference . --build-arg REGION=$region\n",
    "\n",
    "docker tag ${inference_image} ${inference_fullname}\n",
    "\n",
    "docker push ${inference_fullname}"
   ]
  },
  {
   "cell_type": "markdown",
   "id": "5ac742d7-c1b1-4bf9-aad1-60b28296f595",
   "metadata": {},
   "source": [
    "Upload the dummy file to S3 to meet the requirement of SageMaker Endpoint for model data."
   ]
  },
  {
   "cell_type": "code",
   "execution_count": null,
   "id": "3686c6d8-ae5e-490f-b9d2-163a5a199a8d",
   "metadata": {
    "tags": []
   },
   "outputs": [],
   "source": [
    "model_data = \"s3://{0}/SD3-ComfyUI-fake/data/model.tar.gz\".format(bucket)\n",
    "!touch dummy\n",
    "!tar czvf model.tar.gz dummy\n",
    "!rm dummy\n",
    "!aws s3 cp model.tar.gz $model_data"
   ]
  },
  {
   "cell_type": "markdown",
   "id": "9f71cbd8-d3b0-4771-b40e-bc2e98afa673",
   "metadata": {},
   "source": [
    "## Deploy to SageMaker Asychronous Endpoint"
   ]
  },
  {
   "cell_type": "markdown",
   "id": "2094f3ae-362f-4fa5-b2de-c4dcb6463542",
   "metadata": {},
   "source": [
    "Initialized the variables for URI of Docker Inference Endpoint."
   ]
  },
  {
   "cell_type": "code",
   "execution_count": null,
   "id": "08489692-2df3-4833-905c-2e0a6b59e962",
   "metadata": {
    "tags": []
   },
   "outputs": [],
   "source": [
    "model_name = None\n",
    "image_uri = \"{0}.dkr.ecr.{1}.amazonaws.com.cn/{2}:latest\".format(\n",
    "    account_id, region_name, inference_image\n",
    ")\n",
    "print(image_uri)"
   ]
  },
  {
   "cell_type": "markdown",
   "id": "0e013c82-4839-4663-a588-19aa115486f7",
   "metadata": {},
   "source": [
    "Define the dummy models configuration for models."
   ]
  },
  {
   "cell_type": "code",
   "execution_count": 15,
   "id": "b936a1a7-0dcd-4d82-be5b-08a6ae447930",
   "metadata": {},
   "outputs": [],
   "source": [
    "import json\n",
    "\n",
    "huggingface_models = [\n",
    "    {\n",
    "    }\n",
    "]\n",
    "\n",
    "model_environment = {\n",
    "}"
   ]
  },
  {
   "cell_type": "markdown",
   "id": "6ba80cbb-fac7-4425-850a-8c3b7c4a205d",
   "metadata": {},
   "source": [
    "Define the model, instance type and instance initial count for SageMaker endpoint."
   ]
  },
  {
   "cell_type": "code",
   "execution_count": 16,
   "id": "8ee5b8ac-0d4b-4dae-9561-dbf8f3580237",
   "metadata": {
    "tags": []
   },
   "outputs": [],
   "source": [
    "from sagemaker.model import Model\n",
    "from sagemaker.predictor import Predictor\n",
    "\n",
    "model = Model(\n",
    "    name=model_name,\n",
    "    model_data=model_data,\n",
    "    role=role,\n",
    "    image_uri=image_uri,\n",
    "    env=model_environment,\n",
    "    predictor_cls=Predictor,\n",
    ")\n",
    "\n",
    "instance_type = \"ml.g5.xlarge\"\n",
    "instance_count = 1"
   ]
  },
  {
   "cell_type": "markdown",
   "id": "adc946fb-e790-4beb-b519-8e4264ed1aa1",
   "metadata": {},
   "source": [
    "Define the SageMaker Asychronous Inference config"
   ]
  },
  {
   "cell_type": "code",
   "execution_count": 18,
   "id": "d3b72569-91fa-4192-9c63-a5173485a755",
   "metadata": {
    "tags": []
   },
   "outputs": [],
   "source": [
    "from sagemaker.async_inference import AsyncInferenceConfig\n",
    "\n",
    "async_config = AsyncInferenceConfig(\n",
    "    output_path=\"s3://{0}/{1}/asyncinvoke/out/\".format(bucket, \"sd3-comfyui-7-18\"),\n",
    "    max_concurrent_invocations_per_instance=4,\n",
    "    # Optionally specify Amazon SNS topics\n",
    "    # notification_config = {\n",
    "    # \"SuccessTopic\": \"arn:aws:sns:<aws-region>:<account-id>:<topic-name>\",\n",
    "    # \"ErrorTopic\": \"arn:aws:sns:<aws-region>:<account-id>:<topic-name>\",\n",
    "    # }\n",
    ")"
   ]
  },
  {
   "cell_type": "markdown",
   "id": "979e5c97-c33a-450e-aa80-bf5318225265",
   "metadata": {},
   "source": [
    "Here we use asynchronous inference since asynchronous inference is more suitable for workloads with large payload sizes and long inference processing times. "
   ]
  },
  {
   "cell_type": "code",
   "execution_count": null,
   "id": "0513a98c-78ea-4893-98cf-314dc7278715",
   "metadata": {
    "tags": []
   },
   "outputs": [],
   "source": [
    "predictor = model.deploy(\n",
    "    instance_type=instance_type,\n",
    "    initial_instance_count=instance_count,\n",
    "    container_startup_health_check_timeout=600,\n",
    "    async_inference_config=async_config,\n",
    ")"
   ]
  },
  {
   "cell_type": "markdown",
   "id": "5c9f488f-6024-46b8-8364-642fc89487a1",
   "metadata": {},
   "source": [
    "## Generate initial image using text prompt"
   ]
  },
  {
   "cell_type": "code",
   "execution_count": 21,
   "id": "5f9d9d25-2074-4b29-a437-4530d7cff5b8",
   "metadata": {
    "tags": []
   },
   "outputs": [],
   "source": [
    "from sagemaker.serializers import JSONSerializer\n",
    "from sagemaker.deserializers import JSONDeserializer\n",
    "\n",
    "predictor.serializer = JSONSerializer()\n",
    "predictor.deserializer = JSONDeserializer()\n",
    "\n",
    "inputs = {\n",
    "    \"prompt\": {\n",
    "        \"3\": {\n",
    "            \"inputs\": {\n",
    "                \"seed\": 96228230156886,\n",
    "                \"steps\": 20,\n",
    "                \"cfg\": 8,\n",
    "                \"sampler_name\": \"euler\",\n",
    "                \"scheduler\": \"normal\",\n",
    "                \"denoise\": 1,\n",
    "                \"model\": [\n",
    "                    \"4\",\n",
    "                    0\n",
    "                ],\n",
    "                \"positive\": [\n",
    "                    \"6\",\n",
    "                    0\n",
    "                ],\n",
    "                \"negative\": [\n",
    "                    \"7\",\n",
    "                    0\n",
    "                ],\n",
    "                \"latent_image\": [\n",
    "                    \"5\",\n",
    "                    0\n",
    "                ]\n",
    "            },\n",
    "            \"class_type\": \"KSampler\",\n",
    "            \"_meta\": {\n",
    "                \"title\": \"KSampler\"\n",
    "            }\n",
    "        },\n",
    "        \"4\": {\n",
    "            \"inputs\": {\n",
    "                \"ckpt_name\": \"sd3_medium_incl_clips.safetensors\"\n",
    "            },\n",
    "            \"class_type\": \"CheckpointLoaderSimple\",\n",
    "            \"_meta\": {\n",
    "                \"title\": \"Load Checkpoint\"\n",
    "            }\n",
    "        },\n",
    "        \"5\": {\n",
    "            \"inputs\": {\n",
    "                \"width\": 512,\n",
    "                \"height\": 512,\n",
    "                \"batch_size\": 1\n",
    "            },\n",
    "            \"class_type\": \"EmptyLatentImage\",\n",
    "            \"_meta\": {\n",
    "                \"title\": \"Empty Latent Image\"\n",
    "            }\n",
    "        },\n",
    "        \"6\": {\n",
    "            \"inputs\": {\n",
    "                \"text\": \"beautiful scenery nature glass bottle landscape, , purple galaxy desk\",\n",
    "                \"clip\": [\n",
    "                    \"4\",\n",
    "                    1\n",
    "                ]\n",
    "            },\n",
    "            \"class_type\": \"CLIPTextEncode\",\n",
    "            \"_meta\": {\n",
    "                \"title\": \"CLIP Text Encode (Prompt)\"\n",
    "            }\n",
    "        },\n",
    "        \"7\": {\n",
    "            \"inputs\": {\n",
    "                \"text\": \"text, watermark\",\n",
    "                \"clip\": [\n",
    "                    \"4\",\n",
    "                    1\n",
    "                ]\n",
    "            },\n",
    "            \"class_type\": \"CLIPTextEncode\",\n",
    "            \"_meta\": {\n",
    "                \"title\": \"CLIP Text Encode (Prompt)\"\n",
    "            }\n",
    "        },\n",
    "        \"8\": {\n",
    "            \"inputs\": {\n",
    "                \"samples\": [\n",
    "                    \"3\",\n",
    "                    0\n",
    "                ],\n",
    "                \"vae\": [\n",
    "                    \"4\",\n",
    "                    2\n",
    "                ]\n",
    "            },\n",
    "            \"class_type\": \"VAEDecode\",\n",
    "            \"_meta\": {\n",
    "                \"title\": \"VAE Decode\"\n",
    "            }\n",
    "        },\n",
    "        \"9\": {\n",
    "            \"inputs\": {\n",
    "                \"filename_prefix\": \"ComfyUI\",\n",
    "                \"images\": [\n",
    "                    \"8\",\n",
    "                    0\n",
    "                ]\n",
    "            },\n",
    "            \"class_type\": \"SaveImage\",\n",
    "            \"_meta\": {\n",
    "                \"title\": \"Save Image\"\n",
    "            }\n",
    "        }\n",
    "    }\n",
    "}\n",
    "\n",
    "prediction = predictor.predict(inputs)"
   ]
  },
  {
   "cell_type": "markdown",
   "id": "a369c699-5d63-400a-8f43-c2474ef52da4",
   "metadata": {},
   "source": [
    "Helper function for S3."
   ]
  },
  {
   "cell_type": "code",
   "execution_count": 6,
   "id": "55ebf380-7126-4118-9f1f-932ec75f2c65",
   "metadata": {
    "tags": []
   },
   "outputs": [],
   "source": [
    "import json\n",
    "import io\n",
    "\n",
    "s3_resource = boto3.resource(\"s3\")\n",
    "\n",
    "def get_bucket_and_key(s3uri):\n",
    "    pos = s3uri.find(\"/\", 5)\n",
    "    bucket = s3uri[5:pos]\n",
    "    key = s3uri[pos + 1 :]\n",
    "    return bucket, key\n",
    "\n"
   ]
  },
  {
   "cell_type": "markdown",
   "id": "5acbaee6-3732-4f21-8260-91cbe56748d5",
   "metadata": {},
   "source": [
    "Wait until the asychronous inference is done in case we use asynchronous inference for image generation. "
   ]
  },
  {
   "cell_type": "code",
   "execution_count": 7,
   "id": "cb3a4069-cacc-4721-8c4b-d5468efb643a",
   "metadata": {
    "tags": []
   },
   "outputs": [
    {
     "ename": "NameError",
     "evalue": "name 'prediction' is not defined",
     "output_type": "error",
     "traceback": [
      "\u001b[0;31m---------------------------------------------------------------------------\u001b[0m",
      "\u001b[0;31mNameError\u001b[0m                                 Traceback (most recent call last)",
      "Cell \u001b[0;32mIn[7], line 3\u001b[0m\n\u001b[1;32m      1\u001b[0m \u001b[38;5;28;01mfrom\u001b[39;00m \u001b[38;5;21;01msagemaker\u001b[39;00m\u001b[38;5;21;01m.\u001b[39;00m\u001b[38;5;21;01masync_inference\u001b[39;00m\u001b[38;5;21;01m.\u001b[39;00m\u001b[38;5;21;01mwaiter_config\u001b[39;00m \u001b[38;5;28;01mimport\u001b[39;00m WaiterConfig\n\u001b[0;32m----> 3\u001b[0m \u001b[38;5;28mprint\u001b[39m(\u001b[38;5;124mf\u001b[39m\u001b[38;5;124m\"\u001b[39m\u001b[38;5;124mResponse object: \u001b[39m\u001b[38;5;132;01m{\u001b[39;00m\u001b[43mprediction\u001b[49m\u001b[38;5;132;01m}\u001b[39;00m\u001b[38;5;124m\"\u001b[39m)\n\u001b[1;32m      4\u001b[0m \u001b[38;5;66;03m#print(f\"Response output path: {prediction.output_path}\")\u001b[39;00m\n\u001b[1;32m      5\u001b[0m \u001b[38;5;28mprint\u001b[39m(\u001b[38;5;124m\"\u001b[39m\u001b[38;5;124mStart Polling to get response:\u001b[39m\u001b[38;5;124m\"\u001b[39m)\n",
      "\u001b[0;31mNameError\u001b[0m: name 'prediction' is not defined"
     ]
    }
   ],
   "source": [
    "from sagemaker.async_inference.waiter_config import WaiterConfig\n",
    "\n",
    "print(f\"Response object: {prediction}\")\n",
    "#print(f\"Response output path: {prediction.output_path}\")\n",
    "print(\"Start Polling to get response:\")\n",
    "\n",
    "import time\n",
    "\n",
    "start = time.time()\n",
    "\n",
    "config = WaiterConfig(\n",
    "    max_attempts=100, delay=10  #  number of attempts  #  time in seconds to wait between attempts\n",
    ")\n",
    "\n",
    "prediction.get_result(config)\n",
    "\n",
    "print(f\"Time taken: {time.time() - start}s\")"
   ]
  },
  {
   "cell_type": "markdown",
   "id": "a9ace299-f064-4f5b-b4d7-d2a98e72869f",
   "metadata": {},
   "source": [
    "Process the generated images from asynchronous inference result."
   ]
  },
  {
   "cell_type": "code",
   "execution_count": 22,
   "id": "8f831db6-a9ce-429f-a0af-18055af7bc02",
   "metadata": {
    "tags": []
   },
   "outputs": [
    {
     "name": "stdout",
     "output_type": "stream",
     "text": [
      "'bytes' object has no attribute 'output_path'\n"
     ]
    },
    {
     "name": "stderr",
     "output_type": "stream",
     "text": [
      "Traceback (most recent call last):\n",
      "  File \"/tmp/ipykernel_6000/758733565.py\", line 9, in <module>\n",
      "    output_bucket, output_key = get_bucket_and_key(prediction.output_path)\n",
      "AttributeError: 'bytes' object has no attribute 'output_path'\n"
     ]
    }
   ],
   "source": [
    "import traceback\n",
    "from PIL import Image\n",
    "import uuid\n",
    "from io import BytesIO\n",
    "from datetime import datetime\n",
    "import base64\n",
    "\n",
    "try:\n",
    "    output_bucket, output_key = get_bucket_and_key(prediction.output_path)\n",
    "    output_obj = s3_resource.Object(output_bucket, output_key)\n",
    "    body = output_obj.get()[\"Body\"].read().decode(\"utf-8\")\n",
    "    image_object = json.loads(body)[\"images\"][0]\n",
    "    image = Image.open(BytesIO(base64.b64decode(image_object)))\n",
    "    image.show()\n",
    "    initial_image_filename = datetime.now().strftime(f\"%Y%m%d%H%M%S-{uuid.uuid4()}.png\")\n",
    "    image.save(initial_image_filename)\n",
    "except Exception as e:\n",
    "    traceback.print_exc()\n",
    "    print(e)"
   ]
  },
  {
   "cell_type": "markdown",
   "id": "954d89ef-34d8-4da8-b3c6-6ac9671e4337",
   "metadata": {},
   "source": [
    "## Resource cleanup."
   ]
  },
  {
   "cell_type": "code",
   "execution_count": null,
   "id": "58ba3039-c6a1-4873-86fc-cb4f3c91ac0d",
   "metadata": {},
   "outputs": [],
   "source": [
    "predictor.delete_endpoint()"
   ]
  }
 ],
 "metadata": {
  "availableInstances": [
   {
    "_defaultOrder": 0,
    "_isFastLaunch": true,
    "category": "General purpose",
    "gpuNum": 0,
    "hideHardwareSpecs": false,
    "memoryGiB": 4,
    "name": "ml.t3.medium",
    "vcpuNum": 2
   },
   {
    "_defaultOrder": 1,
    "_isFastLaunch": false,
    "category": "General purpose",
    "gpuNum": 0,
    "hideHardwareSpecs": false,
    "memoryGiB": 8,
    "name": "ml.t3.large",
    "vcpuNum": 2
   },
   {
    "_defaultOrder": 2,
    "_isFastLaunch": false,
    "category": "General purpose",
    "gpuNum": 0,
    "hideHardwareSpecs": false,
    "memoryGiB": 16,
    "name": "ml.t3.xlarge",
    "vcpuNum": 4
   },
   {
    "_defaultOrder": 3,
    "_isFastLaunch": false,
    "category": "General purpose",
    "gpuNum": 0,
    "hideHardwareSpecs": false,
    "memoryGiB": 32,
    "name": "ml.t3.2xlarge",
    "vcpuNum": 8
   },
   {
    "_defaultOrder": 4,
    "_isFastLaunch": true,
    "category": "General purpose",
    "gpuNum": 0,
    "hideHardwareSpecs": false,
    "memoryGiB": 8,
    "name": "ml.m5.large",
    "vcpuNum": 2
   },
   {
    "_defaultOrder": 5,
    "_isFastLaunch": false,
    "category": "General purpose",
    "gpuNum": 0,
    "hideHardwareSpecs": false,
    "memoryGiB": 16,
    "name": "ml.m5.xlarge",
    "vcpuNum": 4
   },
   {
    "_defaultOrder": 6,
    "_isFastLaunch": false,
    "category": "General purpose",
    "gpuNum": 0,
    "hideHardwareSpecs": false,
    "memoryGiB": 32,
    "name": "ml.m5.2xlarge",
    "vcpuNum": 8
   },
   {
    "_defaultOrder": 7,
    "_isFastLaunch": false,
    "category": "General purpose",
    "gpuNum": 0,
    "hideHardwareSpecs": false,
    "memoryGiB": 64,
    "name": "ml.m5.4xlarge",
    "vcpuNum": 16
   },
   {
    "_defaultOrder": 8,
    "_isFastLaunch": false,
    "category": "General purpose",
    "gpuNum": 0,
    "hideHardwareSpecs": false,
    "memoryGiB": 128,
    "name": "ml.m5.8xlarge",
    "vcpuNum": 32
   },
   {
    "_defaultOrder": 9,
    "_isFastLaunch": false,
    "category": "General purpose",
    "gpuNum": 0,
    "hideHardwareSpecs": false,
    "memoryGiB": 192,
    "name": "ml.m5.12xlarge",
    "vcpuNum": 48
   },
   {
    "_defaultOrder": 10,
    "_isFastLaunch": false,
    "category": "General purpose",
    "gpuNum": 0,
    "hideHardwareSpecs": false,
    "memoryGiB": 256,
    "name": "ml.m5.16xlarge",
    "vcpuNum": 64
   },
   {
    "_defaultOrder": 11,
    "_isFastLaunch": false,
    "category": "General purpose",
    "gpuNum": 0,
    "hideHardwareSpecs": false,
    "memoryGiB": 384,
    "name": "ml.m5.24xlarge",
    "vcpuNum": 96
   },
   {
    "_defaultOrder": 12,
    "_isFastLaunch": false,
    "category": "General purpose",
    "gpuNum": 0,
    "hideHardwareSpecs": false,
    "memoryGiB": 8,
    "name": "ml.m5d.large",
    "vcpuNum": 2
   },
   {
    "_defaultOrder": 13,
    "_isFastLaunch": false,
    "category": "General purpose",
    "gpuNum": 0,
    "hideHardwareSpecs": false,
    "memoryGiB": 16,
    "name": "ml.m5d.xlarge",
    "vcpuNum": 4
   },
   {
    "_defaultOrder": 14,
    "_isFastLaunch": false,
    "category": "General purpose",
    "gpuNum": 0,
    "hideHardwareSpecs": false,
    "memoryGiB": 32,
    "name": "ml.m5d.2xlarge",
    "vcpuNum": 8
   },
   {
    "_defaultOrder": 15,
    "_isFastLaunch": false,
    "category": "General purpose",
    "gpuNum": 0,
    "hideHardwareSpecs": false,
    "memoryGiB": 64,
    "name": "ml.m5d.4xlarge",
    "vcpuNum": 16
   },
   {
    "_defaultOrder": 16,
    "_isFastLaunch": false,
    "category": "General purpose",
    "gpuNum": 0,
    "hideHardwareSpecs": false,
    "memoryGiB": 128,
    "name": "ml.m5d.8xlarge",
    "vcpuNum": 32
   },
   {
    "_defaultOrder": 17,
    "_isFastLaunch": false,
    "category": "General purpose",
    "gpuNum": 0,
    "hideHardwareSpecs": false,
    "memoryGiB": 192,
    "name": "ml.m5d.12xlarge",
    "vcpuNum": 48
   },
   {
    "_defaultOrder": 18,
    "_isFastLaunch": false,
    "category": "General purpose",
    "gpuNum": 0,
    "hideHardwareSpecs": false,
    "memoryGiB": 256,
    "name": "ml.m5d.16xlarge",
    "vcpuNum": 64
   },
   {
    "_defaultOrder": 19,
    "_isFastLaunch": false,
    "category": "General purpose",
    "gpuNum": 0,
    "hideHardwareSpecs": false,
    "memoryGiB": 384,
    "name": "ml.m5d.24xlarge",
    "vcpuNum": 96
   },
   {
    "_defaultOrder": 20,
    "_isFastLaunch": false,
    "category": "General purpose",
    "gpuNum": 0,
    "hideHardwareSpecs": true,
    "memoryGiB": 0,
    "name": "ml.geospatial.interactive",
    "supportedImageNames": [
     "sagemaker-geospatial-v1-0"
    ],
    "vcpuNum": 0
   },
   {
    "_defaultOrder": 21,
    "_isFastLaunch": true,
    "category": "Compute optimized",
    "gpuNum": 0,
    "hideHardwareSpecs": false,
    "memoryGiB": 4,
    "name": "ml.c5.large",
    "vcpuNum": 2
   },
   {
    "_defaultOrder": 22,
    "_isFastLaunch": false,
    "category": "Compute optimized",
    "gpuNum": 0,
    "hideHardwareSpecs": false,
    "memoryGiB": 8,
    "name": "ml.c5.xlarge",
    "vcpuNum": 4
   },
   {
    "_defaultOrder": 23,
    "_isFastLaunch": false,
    "category": "Compute optimized",
    "gpuNum": 0,
    "hideHardwareSpecs": false,
    "memoryGiB": 16,
    "name": "ml.c5.2xlarge",
    "vcpuNum": 8
   },
   {
    "_defaultOrder": 24,
    "_isFastLaunch": false,
    "category": "Compute optimized",
    "gpuNum": 0,
    "hideHardwareSpecs": false,
    "memoryGiB": 32,
    "name": "ml.c5.4xlarge",
    "vcpuNum": 16
   },
   {
    "_defaultOrder": 25,
    "_isFastLaunch": false,
    "category": "Compute optimized",
    "gpuNum": 0,
    "hideHardwareSpecs": false,
    "memoryGiB": 72,
    "name": "ml.c5.9xlarge",
    "vcpuNum": 36
   },
   {
    "_defaultOrder": 26,
    "_isFastLaunch": false,
    "category": "Compute optimized",
    "gpuNum": 0,
    "hideHardwareSpecs": false,
    "memoryGiB": 96,
    "name": "ml.c5.12xlarge",
    "vcpuNum": 48
   },
   {
    "_defaultOrder": 27,
    "_isFastLaunch": false,
    "category": "Compute optimized",
    "gpuNum": 0,
    "hideHardwareSpecs": false,
    "memoryGiB": 144,
    "name": "ml.c5.18xlarge",
    "vcpuNum": 72
   },
   {
    "_defaultOrder": 28,
    "_isFastLaunch": false,
    "category": "Compute optimized",
    "gpuNum": 0,
    "hideHardwareSpecs": false,
    "memoryGiB": 192,
    "name": "ml.c5.24xlarge",
    "vcpuNum": 96
   },
   {
    "_defaultOrder": 29,
    "_isFastLaunch": true,
    "category": "Accelerated computing",
    "gpuNum": 1,
    "hideHardwareSpecs": false,
    "memoryGiB": 16,
    "name": "ml.g4dn.xlarge",
    "vcpuNum": 4
   },
   {
    "_defaultOrder": 30,
    "_isFastLaunch": false,
    "category": "Accelerated computing",
    "gpuNum": 1,
    "hideHardwareSpecs": false,
    "memoryGiB": 32,
    "name": "ml.g4dn.2xlarge",
    "vcpuNum": 8
   },
   {
    "_defaultOrder": 31,
    "_isFastLaunch": false,
    "category": "Accelerated computing",
    "gpuNum": 1,
    "hideHardwareSpecs": false,
    "memoryGiB": 64,
    "name": "ml.g4dn.4xlarge",
    "vcpuNum": 16
   },
   {
    "_defaultOrder": 32,
    "_isFastLaunch": false,
    "category": "Accelerated computing",
    "gpuNum": 1,
    "hideHardwareSpecs": false,
    "memoryGiB": 128,
    "name": "ml.g4dn.8xlarge",
    "vcpuNum": 32
   },
   {
    "_defaultOrder": 33,
    "_isFastLaunch": false,
    "category": "Accelerated computing",
    "gpuNum": 4,
    "hideHardwareSpecs": false,
    "memoryGiB": 192,
    "name": "ml.g4dn.12xlarge",
    "vcpuNum": 48
   },
   {
    "_defaultOrder": 34,
    "_isFastLaunch": false,
    "category": "Accelerated computing",
    "gpuNum": 1,
    "hideHardwareSpecs": false,
    "memoryGiB": 256,
    "name": "ml.g4dn.16xlarge",
    "vcpuNum": 64
   },
   {
    "_defaultOrder": 35,
    "_isFastLaunch": false,
    "category": "Accelerated computing",
    "gpuNum": 1,
    "hideHardwareSpecs": false,
    "memoryGiB": 61,
    "name": "ml.p3.2xlarge",
    "vcpuNum": 8
   },
   {
    "_defaultOrder": 36,
    "_isFastLaunch": false,
    "category": "Accelerated computing",
    "gpuNum": 4,
    "hideHardwareSpecs": false,
    "memoryGiB": 244,
    "name": "ml.p3.8xlarge",
    "vcpuNum": 32
   },
   {
    "_defaultOrder": 37,
    "_isFastLaunch": false,
    "category": "Accelerated computing",
    "gpuNum": 8,
    "hideHardwareSpecs": false,
    "memoryGiB": 488,
    "name": "ml.p3.16xlarge",
    "vcpuNum": 64
   },
   {
    "_defaultOrder": 38,
    "_isFastLaunch": false,
    "category": "Accelerated computing",
    "gpuNum": 8,
    "hideHardwareSpecs": false,
    "memoryGiB": 768,
    "name": "ml.p3dn.24xlarge",
    "vcpuNum": 96
   },
   {
    "_defaultOrder": 39,
    "_isFastLaunch": false,
    "category": "Memory Optimized",
    "gpuNum": 0,
    "hideHardwareSpecs": false,
    "memoryGiB": 16,
    "name": "ml.r5.large",
    "vcpuNum": 2
   },
   {
    "_defaultOrder": 40,
    "_isFastLaunch": false,
    "category": "Memory Optimized",
    "gpuNum": 0,
    "hideHardwareSpecs": false,
    "memoryGiB": 32,
    "name": "ml.r5.xlarge",
    "vcpuNum": 4
   },
   {
    "_defaultOrder": 41,
    "_isFastLaunch": false,
    "category": "Memory Optimized",
    "gpuNum": 0,
    "hideHardwareSpecs": false,
    "memoryGiB": 64,
    "name": "ml.r5.2xlarge",
    "vcpuNum": 8
   },
   {
    "_defaultOrder": 42,
    "_isFastLaunch": false,
    "category": "Memory Optimized",
    "gpuNum": 0,
    "hideHardwareSpecs": false,
    "memoryGiB": 128,
    "name": "ml.r5.4xlarge",
    "vcpuNum": 16
   },
   {
    "_defaultOrder": 43,
    "_isFastLaunch": false,
    "category": "Memory Optimized",
    "gpuNum": 0,
    "hideHardwareSpecs": false,
    "memoryGiB": 256,
    "name": "ml.r5.8xlarge",
    "vcpuNum": 32
   },
   {
    "_defaultOrder": 44,
    "_isFastLaunch": false,
    "category": "Memory Optimized",
    "gpuNum": 0,
    "hideHardwareSpecs": false,
    "memoryGiB": 384,
    "name": "ml.r5.12xlarge",
    "vcpuNum": 48
   },
   {
    "_defaultOrder": 45,
    "_isFastLaunch": false,
    "category": "Memory Optimized",
    "gpuNum": 0,
    "hideHardwareSpecs": false,
    "memoryGiB": 512,
    "name": "ml.r5.16xlarge",
    "vcpuNum": 64
   },
   {
    "_defaultOrder": 46,
    "_isFastLaunch": false,
    "category": "Memory Optimized",
    "gpuNum": 0,
    "hideHardwareSpecs": false,
    "memoryGiB": 768,
    "name": "ml.r5.24xlarge",
    "vcpuNum": 96
   },
   {
    "_defaultOrder": 47,
    "_isFastLaunch": false,
    "category": "Accelerated computing",
    "gpuNum": 1,
    "hideHardwareSpecs": false,
    "memoryGiB": 16,
    "name": "ml.g5.xlarge",
    "vcpuNum": 4
   },
   {
    "_defaultOrder": 48,
    "_isFastLaunch": false,
    "category": "Accelerated computing",
    "gpuNum": 1,
    "hideHardwareSpecs": false,
    "memoryGiB": 32,
    "name": "ml.g5.2xlarge",
    "vcpuNum": 8
   },
   {
    "_defaultOrder": 49,
    "_isFastLaunch": false,
    "category": "Accelerated computing",
    "gpuNum": 1,
    "hideHardwareSpecs": false,
    "memoryGiB": 64,
    "name": "ml.g5.4xlarge",
    "vcpuNum": 16
   },
   {
    "_defaultOrder": 50,
    "_isFastLaunch": false,
    "category": "Accelerated computing",
    "gpuNum": 1,
    "hideHardwareSpecs": false,
    "memoryGiB": 128,
    "name": "ml.g5.8xlarge",
    "vcpuNum": 32
   },
   {
    "_defaultOrder": 51,
    "_isFastLaunch": false,
    "category": "Accelerated computing",
    "gpuNum": 1,
    "hideHardwareSpecs": false,
    "memoryGiB": 256,
    "name": "ml.g5.16xlarge",
    "vcpuNum": 64
   },
   {
    "_defaultOrder": 52,
    "_isFastLaunch": false,
    "category": "Accelerated computing",
    "gpuNum": 4,
    "hideHardwareSpecs": false,
    "memoryGiB": 192,
    "name": "ml.g5.12xlarge",
    "vcpuNum": 48
   },
   {
    "_defaultOrder": 53,
    "_isFastLaunch": false,
    "category": "Accelerated computing",
    "gpuNum": 4,
    "hideHardwareSpecs": false,
    "memoryGiB": 384,
    "name": "ml.g5.24xlarge",
    "vcpuNum": 96
   },
   {
    "_defaultOrder": 54,
    "_isFastLaunch": false,
    "category": "Accelerated computing",
    "gpuNum": 8,
    "hideHardwareSpecs": false,
    "memoryGiB": 768,
    "name": "ml.g5.48xlarge",
    "vcpuNum": 192
   },
   {
    "_defaultOrder": 55,
    "_isFastLaunch": false,
    "category": "Accelerated computing",
    "gpuNum": 8,
    "hideHardwareSpecs": false,
    "memoryGiB": 1152,
    "name": "ml.p4d.24xlarge",
    "vcpuNum": 96
   },
   {
    "_defaultOrder": 56,
    "_isFastLaunch": false,
    "category": "Accelerated computing",
    "gpuNum": 8,
    "hideHardwareSpecs": false,
    "memoryGiB": 1152,
    "name": "ml.p4de.24xlarge",
    "vcpuNum": 96
   }
  ],
  "instance_type": "ml.m5.4xlarge",
  "kernelspec": {
   "display_name": "Python 3 (ipykernel)",
   "language": "python",
   "name": "python3"
  },
  "language_info": {
   "codemirror_mode": {
    "name": "ipython",
    "version": 3
   },
   "file_extension": ".py",
   "mimetype": "text/x-python",
   "name": "python",
   "nbconvert_exporter": "python",
   "pygments_lexer": "ipython3",
   "version": "3.10.14"
  }
 },
 "nbformat": 4,
 "nbformat_minor": 5
}
